{
 "cells": [
  {
   "cell_type": "code",
   "execution_count": 2,
   "metadata": {},
   "outputs": [],
   "source": [
    "import torch"
   ]
  },
  {
   "cell_type": "markdown",
   "metadata": {},
   "source": [
    "## 基础尝试"
   ]
  },
  {
   "cell_type": "markdown",
   "metadata": {},
   "source": [
    "创建的tensor默认是不求梯度的"
   ]
  },
  {
   "cell_type": "code",
   "execution_count": 11,
   "metadata": {},
   "outputs": [
    {
     "name": "stdout",
     "output_type": "stream",
     "text": [
      "False\n",
      "True\n"
     ]
    }
   ],
   "source": [
    "a = torch.tensor([1.0,2.0,3.0])\n",
    "print(a.requires_grad)\n",
    "b = torch.tensor([4.0,5.0,6.0], requires_grad=True)\n",
    "print(b.requires_grad)"
   ]
  },
  {
   "cell_type": "markdown",
   "metadata": {},
   "source": [
    "通过 `requires_grad_()`来令张量求梯度"
   ]
  },
  {
   "cell_type": "code",
   "execution_count": 12,
   "metadata": {},
   "outputs": [
    {
     "data": {
      "text/plain": [
       "True"
      ]
     },
     "execution_count": 12,
     "metadata": {},
     "output_type": "execute_result"
    }
   ],
   "source": [
    "a.requires_grad_()\n",
    "a.requires_grad"
   ]
  },
  {
   "cell_type": "markdown",
   "metadata": {},
   "source": [
    "若需要求梯度，则tensor的元素需要是float类型的"
   ]
  },
  {
   "cell_type": "code",
   "execution_count": 13,
   "metadata": {},
   "outputs": [
    {
     "ename": "RuntimeError",
     "evalue": "Only Tensors of floating point and complex dtype can require gradients",
     "output_type": "error",
     "traceback": [
      "\u001b[0;31m---------------------------------------------------------------------------\u001b[0m",
      "\u001b[0;31mRuntimeError\u001b[0m                              Traceback (most recent call last)",
      "\u001b[0;32m<ipython-input-13-907a85ef78b5>\u001b[0m in \u001b[0;36m<module>\u001b[0;34m\u001b[0m\n\u001b[0;32m----> 1\u001b[0;31m \u001b[0ma\u001b[0m \u001b[0;34m=\u001b[0m \u001b[0mtorch\u001b[0m\u001b[0;34m.\u001b[0m\u001b[0mtensor\u001b[0m\u001b[0;34m(\u001b[0m\u001b[0;34m[\u001b[0m\u001b[0;36m1\u001b[0m\u001b[0;34m,\u001b[0m\u001b[0;36m2\u001b[0m\u001b[0;34m,\u001b[0m\u001b[0;36m3\u001b[0m\u001b[0;34m]\u001b[0m\u001b[0;34m,\u001b[0m \u001b[0mrequires_grad\u001b[0m\u001b[0;34m=\u001b[0m\u001b[0;32mTrue\u001b[0m\u001b[0;34m)\u001b[0m\u001b[0;34m\u001b[0m\u001b[0;34m\u001b[0m\u001b[0m\n\u001b[0m",
      "\u001b[0;31mRuntimeError\u001b[0m: Only Tensors of floating point and complex dtype can require gradients"
     ]
    }
   ],
   "source": [
    "a = torch.tensor([1,2,3], requires_grad=True)"
   ]
  },
  {
   "cell_type": "markdown",
   "metadata": {},
   "source": [
    "## 反向传播\n"
   ]
  },
  {
   "cell_type": "markdown",
   "metadata": {},
   "source": [
    "一般我们都是对loss做反向传播，loss是一个标量。下面就是标量的反向传播。\n",
    "$$\n",
    "a = [a_0, a_1, a_2] = [1, 2, 3] \n",
    "\\\\[5mm]\n",
    "c = a_0^2 + a_1^2 + a_2^2\n",
    "\\\\[5mm]\n",
    "\\frac{\\partial c}{\\partial a_0} = 2 a_0 = 2 \\times 1 = 2\n",
    "\\\\[5mm]\n",
    "\\frac{\\partial c}{\\partial a_1} = 2 a_1 = 2 \\times 2 = 4\n",
    "\\\\[5mm]\n",
    "\\frac{\\partial c}{\\partial a_2} = 2 a_2 = 2 \\times 3 = 6\n",
    "$$"
   ]
  },
  {
   "cell_type": "code",
   "execution_count": 29,
   "metadata": {},
   "outputs": [
    {
     "data": {
      "text/plain": [
       "tensor([2., 4., 6.])"
      ]
     },
     "execution_count": 29,
     "metadata": {},
     "output_type": "execute_result"
    }
   ],
   "source": [
    "a = torch.tensor([1.0,2.0,3.0], requires_grad=True) # 由用户创建，为叶子张量\n",
    "b = a**2\n",
    "c = b.sum()\n",
    "c.backward() #反向传播（求导），对于叶子张量的导数会被保存，其他中间量的导数会被释放。\n",
    "a.grad"
   ]
  },
  {
   "cell_type": "markdown",
   "metadata": {},
   "source": [
    "上面是标量的求导，那么张量的的求导呢？\n",
    "$$\n",
    "a = [a_0, a_1, a_2] = [1, 2, 3]\n",
    "\\\\[5mm]\n",
    "b = [a_0^2 + a_1, a_1+a_2, a_2^3]\n",
    "\\\\[5mm]\n",
    "Jacobian = \\frac{\\partial b}{\\partial a} =  \n",
    "\\begin{pmatrix}\n",
    "\\frac{\\partial b_0}{\\partial a_0} & \\frac{\\partial b_1}{\\partial a_0} & \\frac{\\partial b_2}{\\partial a_0} \\\\\n",
    "\\frac{\\partial b_0}{\\partial a_1} & \\frac{\\partial b_1}{\\partial a_1} & \\frac{\\partial b_2}{\\partial a_1} \\\\\n",
    "\\frac{\\partial b_0}{\\partial a_2} & \\frac{\\partial b_1}{\\partial a_2} & \\frac{\\partial b_2}{\\partial a_2}\n",
    "\\end{pmatrix}\n",
    "=\n",
    "\\begin{pmatrix}\n",
    "2a_0 & 0 & 0 \\\\\n",
    "1 & 1 & 0 \\\\\n",
    "0 & 1 & 3 a_2^2\n",
    "\\end{pmatrix}\n",
    "=\n",
    "\\begin{pmatrix}\n",
    "2 & 0 & 0 \\\\\n",
    "1 & 1 & 0 \\\\\n",
    "0 & 1 & 27\n",
    "\\end{pmatrix}\n",
    "$$\n",
    "\n",
    "\n"
   ]
  },
  {
   "cell_type": "code",
   "execution_count": 22,
   "metadata": {},
   "outputs": [
    {
     "name": "stdout",
     "output_type": "stream",
     "text": [
      "tensor([2., 1., 0.])\n",
      "tensor([0., 1., 1.])\n",
      "tensor([ 0.,  0., 27.])\n"
     ]
    }
   ],
   "source": [
    "Jacobian = torch.zeros(3,3)\n",
    "a = torch.tensor([1.0,2.0,3.0], requires_grad=True) # 由用户创建，为叶子张量\n",
    "b = torch.zeros(3)\n",
    "b[0] = a[0]**2 + a[1]\n",
    "b[1] = a[1]+a[2]\n",
    "b[2] = a[2]**3\n",
    "b.backward(torch.tensor([1,0,0]), retain_graph=True)\n",
    "print(a.grad) # d b_0 / d a\n",
    "a.grad.zero_()\n",
    "b.backward(torch.tensor([0,1,0]), retain_graph=True)\n",
    "print(a.grad) # d b_1 / d a\n",
    "a.grad.zero_()\n",
    "b.backward(torch.tensor([0,0,1]), retain_graph=True)\n",
    "print(a.grad) # d b_2 / d a\n"
   ]
  },
  {
   "cell_type": "markdown",
   "metadata": {},
   "source": [
    " 一个反向传播的例子"
   ]
  },
  {
   "cell_type": "code",
   "execution_count": 21,
   "metadata": {},
   "outputs": [
    {
     "name": "stdout",
     "output_type": "stream",
     "text": [
      "tensor([2., 2., 2., 2., 2.]) None <MulBackward0 object at 0x7fcfeb759c88>\n",
      "tensor([6., 6., 6., 6., 6.]) None <AddBackward0 object at 0x7fcfeb759cc0>\n",
      "tensor(18., grad_fn=<MeanBackward0>)\n",
      "tensor(3.) tensor(6.)\n",
      "tensor([1.2000, 1.2000, 1.2000, 1.2000, 1.2000])\n"
     ]
    },
    {
     "name": "stderr",
     "output_type": "stream",
     "text": [
      "/Users/dbl/opt/anaconda3/envs/py36/lib/python3.6/site-packages/torch/_tensor.py:1013: UserWarning: The .grad attribute of a Tensor that is not a leaf Tensor is being accessed. Its .grad attribute won't be populated during autograd.backward(). If you indeed want the .grad field to be populated for a non-leaf Tensor, use .retain_grad() on the non-leaf Tensor. If you access the non-leaf Tensor by mistake, make sure you access the leaf Tensor instead. See github.com/pytorch/pytorch/pull/30531 for more informations. (Triggered internally at  aten/src/ATen/core/TensorBody.h:417.)\n",
      "  return self._grad\n"
     ]
    }
   ],
   "source": [
    "# 定义张量\n",
    "x = torch.ones(5, requires_grad=True)\n",
    "w1 = torch.tensor(2.0, requires_grad=True)\n",
    "w2 = torch.tensor(3.0, requires_grad=True)\n",
    "b = torch.tensor(4.0, requires_grad=False)\n",
    "\n",
    "# 执行正向操作\n",
    "l1 = x * w1\n",
    "l2 = l1 + b\n",
    "l3 = l2 * w2\n",
    "y = l3.mean()\n",
    "\n",
    "# 反向传播\n",
    "y.backward()\n",
    "\n",
    "print(l1.data, l1.grad, l1.grad_fn)\n",
    "# tensor([2., 2., 2., 2., 2.]) None <MulBackward0 object at 0x0000024D8E921BE0>\n",
    "print(l2.data, l2.grad, l2.grad_fn)\n",
    "# tensor([6., 6., 6., 6., 6.]) None <AddBackward0 object at 0x000001B960FC0F98>\n",
    "print(y)\n",
    "# tensor(18., grad_fn=<MeanBackward0>)\n",
    "print(w1.grad, w2.grad)\n",
    "# tensor(3.) tensor(6.)\n",
    "print(x.grad)\n",
    "# tensor([1.2000, 1.2000, 1.2000, 1.2000, 1.2000])"
   ]
  },
  {
   "cell_type": "code",
   "execution_count": null,
   "metadata": {},
   "outputs": [],
   "source": []
  }
 ],
 "metadata": {
  "interpreter": {
   "hash": "f5dd6b396609b783477a2cb9e2610cac026a5258ce3b31fd05960d9c11cc8471"
  },
  "kernelspec": {
   "display_name": "Python 3.6.13 64-bit ('py36': conda)",
   "language": "python",
   "name": "python3"
  },
  "language_info": {
   "codemirror_mode": {
    "name": "ipython",
    "version": 3
   },
   "file_extension": ".py",
   "mimetype": "text/x-python",
   "name": "python",
   "nbconvert_exporter": "python",
   "pygments_lexer": "ipython3",
   "version": "3.6.13"
  },
  "orig_nbformat": 4
 },
 "nbformat": 4,
 "nbformat_minor": 2
}
