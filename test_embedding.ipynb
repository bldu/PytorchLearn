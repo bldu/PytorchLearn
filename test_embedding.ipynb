{
 "cells": [
  {
   "cell_type": "code",
   "execution_count": 1,
   "metadata": {},
   "outputs": [
    {
     "name": "stdout",
     "output_type": "stream",
     "text": [
      "Parameter containing:\n",
      "tensor([[ 0.3555, -0.0312, -0.3828],\n",
      "        [-0.8709, -1.4215,  1.2562],\n",
      "        [-0.3535, -0.2829,  0.6857],\n",
      "        [ 0.0682,  1.1221,  0.0686],\n",
      "        [ 0.0701,  0.6115,  1.4789]], requires_grad=True)\n",
      "torch.Size([2, 4, 3])\n",
      "tensor([[[ 0.3555, -0.0312, -0.3828],\n",
      "         [-0.3535, -0.2829,  0.6857],\n",
      "         [ 0.3555, -0.0312, -0.3828],\n",
      "         [-0.8709, -1.4215,  1.2562]],\n",
      "\n",
      "        [[-0.8709, -1.4215,  1.2562],\n",
      "         [ 0.0682,  1.1221,  0.0686],\n",
      "         [ 0.0701,  0.6115,  1.4789],\n",
      "         [ 0.0701,  0.6115,  1.4789]]], grad_fn=<EmbeddingBackward0>)\n"
     ]
    }
   ],
   "source": [
    "import torch\n",
    "from torch import nn\n",
    "\n",
    "embedding = nn.Embedding(5, 3)  # 定义一个具有5个单词，维度为3的查询矩阵\n",
    "print(embedding.weight)  # 展示该矩阵的具体内容\n",
    "test = torch.LongTensor([[0, 2, 0, 1],\n",
    "                         [1, 3, 4, 4]])  # 该test矩阵用于被embed，其size为[2, 4]\n",
    "# 其中的第一行为[0, 2, 0, 1]，表示获取查询矩阵中ID为0, 2, 0, 1的查询向量\n",
    "# 可以在之后的test输出中与embed的输出进行比较\n",
    "test = embedding(test)\n",
    "print(test.size())  # 输出embed后test的size，为[2, 4, 3]，增加\n",
    "# 的3，是因为查询向量的维度为3\n",
    "print(test)  # 输出embed后的test的内容"
   ]
  },
  {
   "cell_type": "code",
   "execution_count": null,
   "metadata": {},
   "outputs": [],
   "source": []
  }
 ],
 "metadata": {
  "interpreter": {
   "hash": "f5dd6b396609b783477a2cb9e2610cac026a5258ce3b31fd05960d9c11cc8471"
  },
  "kernelspec": {
   "display_name": "Python 3.6.13 64-bit ('py36': conda)",
   "language": "python",
   "name": "python3"
  },
  "language_info": {
   "codemirror_mode": {
    "name": "ipython",
    "version": 3
   },
   "file_extension": ".py",
   "mimetype": "text/x-python",
   "name": "python",
   "nbconvert_exporter": "python",
   "pygments_lexer": "ipython3",
   "version": "3.6.13"
  },
  "orig_nbformat": 4
 },
 "nbformat": 4,
 "nbformat_minor": 2
}
